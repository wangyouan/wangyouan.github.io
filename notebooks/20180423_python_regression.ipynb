{
 "cells": [
  {
   "cell_type": "markdown",
   "metadata": {},
   "source": [
    "This blog mainly based on linearmodels ([PyPI](https://pypi.org/project/linearmodels), [Documents](https://bashtage.github.io/linearmodels/)), which is a good interface to do regression analysis.\n",
    "\n",
    "Sample data used in this article can be download [here]({{ site.baseurl }}/data/useful_data/sample_data.zip)\n",
    "\n",
    "# Panel Models\n",
    "\n",
    "## Basic Linear Regression\n",
    "First we load a sample dataset and use that dataset to do some simple regression"
   ]
  },
  {
   "cell_type": "code",
   "execution_count": 6,
   "metadata": {},
   "outputs": [],
   "source": [
    "import numpy as np\n",
    "from statsmodels.datasets import cpunish\n",
    "data = cpunish.load_pandas().data\n"
   ]
  },
  {
   "cell_type": "code",
   "execution_count": 7,
   "metadata": {
    "scrolled": true
   },
   "outputs": [
    {
     "data": {
      "text/html": [
       "<div>\n",
       "<style scoped>\n",
       "    .dataframe tbody tr th:only-of-type {\n",
       "        vertical-align: middle;\n",
       "    }\n",
       "\n",
       "    .dataframe tbody tr th {\n",
       "        vertical-align: top;\n",
       "    }\n",
       "\n",
       "    .dataframe thead th {\n",
       "        text-align: right;\n",
       "    }\n",
       "</style>\n",
       "<table border=\"1\" class=\"dataframe\">\n",
       "  <thead>\n",
       "    <tr style=\"text-align: right;\">\n",
       "      <th></th>\n",
       "      <th>EXECUTIONS</th>\n",
       "      <th>INCOME</th>\n",
       "      <th>PERPOVERTY</th>\n",
       "      <th>PERBLACK</th>\n",
       "      <th>VC100k96</th>\n",
       "      <th>SOUTH</th>\n",
       "      <th>DEGREE</th>\n",
       "    </tr>\n",
       "  </thead>\n",
       "  <tbody>\n",
       "    <tr>\n",
       "      <th>0</th>\n",
       "      <td>37.0</td>\n",
       "      <td>34453.0</td>\n",
       "      <td>16.7</td>\n",
       "      <td>12.2</td>\n",
       "      <td>644.0</td>\n",
       "      <td>1.0</td>\n",
       "      <td>0.16</td>\n",
       "    </tr>\n",
       "    <tr>\n",
       "      <th>1</th>\n",
       "      <td>9.0</td>\n",
       "      <td>41534.0</td>\n",
       "      <td>12.5</td>\n",
       "      <td>20.0</td>\n",
       "      <td>351.0</td>\n",
       "      <td>1.0</td>\n",
       "      <td>0.27</td>\n",
       "    </tr>\n",
       "    <tr>\n",
       "      <th>2</th>\n",
       "      <td>6.0</td>\n",
       "      <td>35802.0</td>\n",
       "      <td>10.6</td>\n",
       "      <td>11.2</td>\n",
       "      <td>591.0</td>\n",
       "      <td>0.0</td>\n",
       "      <td>0.21</td>\n",
       "    </tr>\n",
       "    <tr>\n",
       "      <th>3</th>\n",
       "      <td>4.0</td>\n",
       "      <td>26954.0</td>\n",
       "      <td>18.4</td>\n",
       "      <td>16.1</td>\n",
       "      <td>524.0</td>\n",
       "      <td>1.0</td>\n",
       "      <td>0.16</td>\n",
       "    </tr>\n",
       "    <tr>\n",
       "      <th>4</th>\n",
       "      <td>3.0</td>\n",
       "      <td>31468.0</td>\n",
       "      <td>14.8</td>\n",
       "      <td>25.9</td>\n",
       "      <td>565.0</td>\n",
       "      <td>1.0</td>\n",
       "      <td>0.19</td>\n",
       "    </tr>\n",
       "  </tbody>\n",
       "</table>\n",
       "</div>"
      ],
      "text/plain": [
       "   EXECUTIONS   INCOME  PERPOVERTY  PERBLACK  VC100k96  SOUTH  DEGREE\n",
       "0        37.0  34453.0        16.7      12.2     644.0    1.0    0.16\n",
       "1         9.0  41534.0        12.5      20.0     351.0    1.0    0.27\n",
       "2         6.0  35802.0        10.6      11.2     591.0    0.0    0.21\n",
       "3         4.0  26954.0        18.4      16.1     524.0    1.0    0.16\n",
       "4         3.0  31468.0        14.8      25.9     565.0    1.0    0.19"
      ]
     },
     "execution_count": 7,
     "metadata": {},
     "output_type": "execute_result"
    }
   ],
   "source": [
    "data.head()"
   ]
  },
  {
   "cell_type": "code",
   "execution_count": 5,
   "metadata": {},
   "outputs": [
    {
     "data": {
      "text/plain": [
       "['__builtins__',\n",
       " '__cached__',\n",
       " '__doc__',\n",
       " '__file__',\n",
       " '__loader__',\n",
       " '__name__',\n",
       " '__package__',\n",
       " '__path__',\n",
       " '__spec__',\n",
       " 'anes96',\n",
       " 'cancer',\n",
       " 'ccard',\n",
       " 'check_internet',\n",
       " 'china_smoking',\n",
       " 'clear_data_home',\n",
       " 'co2',\n",
       " 'committee',\n",
       " 'copper',\n",
       " 'cpunish',\n",
       " 'elnino',\n",
       " 'engel',\n",
       " 'fair',\n",
       " 'fertility',\n",
       " 'get_data_home',\n",
       " 'get_rdataset',\n",
       " 'grunfeld',\n",
       " 'heart',\n",
       " 'longley',\n",
       " 'macrodata',\n",
       " 'modechoice',\n",
       " 'nile',\n",
       " 'randhie',\n",
       " 'scotland',\n",
       " 'spector',\n",
       " 'stackloss',\n",
       " 'star98',\n",
       " 'statecrime',\n",
       " 'strikes',\n",
       " 'sunspots',\n",
       " 'utils',\n",
       " 'webuse']"
      ]
     },
     "execution_count": 5,
     "metadata": {},
     "output_type": "execute_result"
    }
   ],
   "source": [
    "import statsmodels.api as sm\n",
    "dir(sm.datasets)"
   ]
  }
 ],
 "metadata": {
  "kernelspec": {
   "display_name": "Python 3",
   "language": "python",
   "name": "python3"
  },
  "language_info": {
   "codemirror_mode": {
    "name": "ipython",
    "version": 3
   },
   "file_extension": ".py",
   "mimetype": "text/x-python",
   "name": "python",
   "nbconvert_exporter": "python",
   "pygments_lexer": "ipython3",
   "version": "3.6.5"
  }
 },
 "nbformat": 4,
 "nbformat_minor": 2
}
